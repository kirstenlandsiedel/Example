{
 "cells": [
  {
   "cell_type": "markdown",
   "id": "c4267086",
   "metadata": {},
   "source": [
    "# Testing in Julia\n",
    "### Kirsten Landsiedel, Stats 244\n",
    "#### Feb 6, 2025"
   ]
  },
  {
   "cell_type": "markdown",
   "id": "78d105aa",
   "metadata": {},
   "source": [
    "I am following many examples and suggestions from [Julia manual's testing section](https://docs.julialang.org/en/v1/stdlib/Test/#:~:text=Testing%20Base%20Julia,-Julia%20is%20under&text=If%20you%20build%20Julia%20from,runtests()%20.&text=Run%20the%20Julia%20unit%20tests,of%20strings%2C%20using%20ncores%20processors). "
   ]
  },
  {
   "cell_type": "markdown",
   "id": "d3edf108",
   "metadata": {},
   "source": [
    "Testing is crucial in software development because it helps ensure that code behaves as expected, catches errors early, and prevents errors when making changes. This is especially important in large projects. Without testing, even small modifications can introduce unintended side effects that are hard to track down."
   ]
  },
  {
   "cell_type": "markdown",
   "id": "491f2f2a",
   "metadata": {},
   "source": [
    "## The \"Test\" Module in Julia\n",
    "\n",
    "#### The main testing tools in Julia live in the \"Test\" module. The building blocks of testing in Julia are the @test and @test_throws macros. Call @test with some STATEMENT as below. "
   ]
  },
  {
   "cell_type": "markdown",
   "id": "c09b3b7c",
   "metadata": {},
   "source": [
    "###  Testing Functions: Overall Goals\n",
    "\n",
    "Eventually, we want to be able to write tests for functions and for packages (which often contain MANY functions). Here is a quick example of wehre we are going (before we dive into the syntax adn mechanics behind testing in Julia).\n",
    "\n",
    "Suppose you write a function to compute the avergae of a vector of numbers (but it's 3am, yikes) and you are not at your best:"
   ]
  },
  {
   "cell_type": "code",
   "execution_count": 1,
   "id": "bff1ae9c",
   "metadata": {
    "scrolled": false
   },
   "outputs": [
    {
     "name": "stdout",
     "output_type": "stream",
     "text": [
      "Testing average_bad: \u001b[91m\u001b[1mTest Failed\u001b[22m\u001b[39m at \u001b[39m\u001b[1mIn[1]:9\u001b[22m\n",
      "  Expression: average_bad([0, 1]) ≈ 0.5\n",
      "   Evaluated: 1.0 ≈ 0.5\n",
      "\n",
      "Stacktrace:\n",
      " [1] \u001b[0m\u001b[1mmacro expansion\u001b[22m\n",
      "\u001b[90m   @\u001b[39m \u001b[90m~/.julia/juliaup/julia-1.11.3+0.aarch64.apple.darwin14/share/julia/stdlib/v1.11/Test/src/\u001b[39m\u001b[90m\u001b[4mTest.jl:679\u001b[24m\u001b[39m\u001b[90m [inlined]\u001b[39m\n",
      " [2] \u001b[0m\u001b[1mmacro expansion\u001b[22m\n",
      "\u001b[90m   @\u001b[39m \u001b[90m\u001b[4mIn[1]:9\u001b[24m\u001b[39m\u001b[90m [inlined]\u001b[39m\n",
      " [3] \u001b[0m\u001b[1mmacro expansion\u001b[22m\n",
      "\u001b[90m   @\u001b[39m \u001b[90m~/.julia/juliaup/julia-1.11.3+0.aarch64.apple.darwin14/share/julia/stdlib/v1.11/Test/src/\u001b[39m\u001b[90m\u001b[4mTest.jl:1704\u001b[24m\u001b[39m\u001b[90m [inlined]\u001b[39m\n",
      " [4] top-level scope\n",
      "\u001b[90m   @\u001b[39m \u001b[90m\u001b[4mIn[1]:9\u001b[24m\u001b[39m\n",
      "Testing average_bad: \u001b[91m\u001b[1mTest Failed\u001b[22m\u001b[39m at \u001b[39m\u001b[1mIn[1]:10\u001b[22m\n",
      "  Expression: average_bad([-1, 2]) ≈ 0.5\n",
      "   Evaluated: 1.0 ≈ 0.5\n",
      "\n",
      "Stacktrace:\n",
      " [1] \u001b[0m\u001b[1mmacro expansion\u001b[22m\n",
      "\u001b[90m   @\u001b[39m \u001b[90m~/.julia/juliaup/julia-1.11.3+0.aarch64.apple.darwin14/share/julia/stdlib/v1.11/Test/src/\u001b[39m\u001b[90m\u001b[4mTest.jl:679\u001b[24m\u001b[39m\u001b[90m [inlined]\u001b[39m\n",
      " [2] \u001b[0m\u001b[1mmacro expansion\u001b[22m\n",
      "\u001b[90m   @\u001b[39m \u001b[90m\u001b[4mIn[1]:10\u001b[24m\u001b[39m\u001b[90m [inlined]\u001b[39m\n",
      " [3] \u001b[0m\u001b[1mmacro expansion\u001b[22m\n",
      "\u001b[90m   @\u001b[39m \u001b[90m~/.julia/juliaup/julia-1.11.3+0.aarch64.apple.darwin14/share/julia/stdlib/v1.11/Test/src/\u001b[39m\u001b[90m\u001b[4mTest.jl:1704\u001b[24m\u001b[39m\u001b[90m [inlined]\u001b[39m\n",
      " [4] top-level scope\n",
      "\u001b[90m   @\u001b[39m \u001b[90m\u001b[4mIn[1]:9\u001b[24m\u001b[39m\n",
      "Testing average_bad: \u001b[91m\u001b[1mTest Failed\u001b[22m\u001b[39m at \u001b[39m\u001b[1mIn[1]:11\u001b[22m\n",
      "  Expression: average_bad([1, 2, 3]) ≈ 2\n",
      "   Evaluated: 3.0 ≈ 2\n",
      "\n",
      "Stacktrace:\n",
      " [1] \u001b[0m\u001b[1mmacro expansion\u001b[22m\n",
      "\u001b[90m   @\u001b[39m \u001b[90m~/.julia/juliaup/julia-1.11.3+0.aarch64.apple.darwin14/share/julia/stdlib/v1.11/Test/src/\u001b[39m\u001b[90m\u001b[4mTest.jl:679\u001b[24m\u001b[39m\u001b[90m [inlined]\u001b[39m\n",
      " [2] \u001b[0m\u001b[1mmacro expansion\u001b[22m\n",
      "\u001b[90m   @\u001b[39m \u001b[90m\u001b[4mIn[1]:11\u001b[24m\u001b[39m\u001b[90m [inlined]\u001b[39m\n",
      " [3] \u001b[0m\u001b[1mmacro expansion\u001b[22m\n",
      "\u001b[90m   @\u001b[39m \u001b[90m~/.julia/juliaup/julia-1.11.3+0.aarch64.apple.darwin14/share/julia/stdlib/v1.11/Test/src/\u001b[39m\u001b[90m\u001b[4mTest.jl:1704\u001b[24m\u001b[39m\u001b[90m [inlined]\u001b[39m\n",
      " [4] top-level scope\n",
      "\u001b[90m   @\u001b[39m \u001b[90m\u001b[4mIn[1]:9\u001b[24m\u001b[39m\n",
      "\u001b[0m\u001b[1mTest Summary:       | \u001b[22m\u001b[91m\u001b[1mFail  \u001b[22m\u001b[39m\u001b[36m\u001b[1mTotal  \u001b[22m\u001b[39m\u001b[0m\u001b[1mTime\u001b[22m\n",
      "Testing average_bad | \u001b[91m   3  \u001b[39m\u001b[36m    3  \u001b[39m\u001b[0m0.9s\n"
     ]
    },
    {
     "ename": "LoadError",
     "evalue": "\u001b[91mSome tests did not pass: 0 passed, 3 failed, 0 errored, 0 broken.\u001b[39m",
     "output_type": "error",
     "traceback": [
      "\u001b[91mSome tests did not pass: 0 passed, 3 failed, 0 errored, 0 broken.\u001b[39m",
      "",
      "Stacktrace:",
      " [1] finish(ts::Test.DefaultTestSet; print_results::Bool)",
      "   @ Test ~/.julia/juliaup/julia-1.11.3+0.aarch64.apple.darwin14/share/julia/stdlib/v1.11/Test/src/Test.jl:1258",
      " [2] finish(ts::Test.DefaultTestSet)",
      "   @ Test ~/.julia/juliaup/julia-1.11.3+0.aarch64.apple.darwin14/share/julia/stdlib/v1.11/Test/src/Test.jl:1233",
      " [3] macro expansion",
      "   @ ~/.julia/juliaup/julia-1.11.3+0.aarch64.apple.darwin14/share/julia/stdlib/v1.11/Test/src/Test.jl:1720 [inlined]",
      " [4] top-level scope",
      "   @ In[1]:9"
     ]
    }
   ],
   "source": [
    "using Test\n",
    "\n",
    "function average_bad(nums::AbstractVector{<:Real})\n",
    "    return sum(nums) / (length(nums) - 1)  # Oops! Wrong denominator\n",
    "end\n",
    "\n",
    "# Write tests for multiple input/output pairs\n",
    "@testset \"Testing average_bad\" begin \n",
    "    @test average_bad([0,1]) ≈ 0.5  \n",
    "    @test average_bad([-1,2]) ≈ 0.5\n",
    "    @test average_bad([1,2,3]) ≈ 2\n",
    "end"
   ]
  },
  {
   "cell_type": "markdown",
   "id": "e071a793",
   "metadata": {},
   "source": [
    "###  General testing syntax in Julia"
   ]
  },
  {
   "cell_type": "markdown",
   "id": "30a4de99",
   "metadata": {},
   "source": [
    "If the STATEMENT is TRUE, you get a passing result:"
   ]
  },
  {
   "cell_type": "code",
   "execution_count": 2,
   "id": "4960058c",
   "metadata": {},
   "outputs": [
    {
     "data": {
      "text/plain": [
       "\u001b[32m\u001b[1mTest Passed\u001b[22m\u001b[39m"
      ]
     },
     "execution_count": 2,
     "metadata": {},
     "output_type": "execute_result"
    }
   ],
   "source": [
    "@test 1 + 1 == 2"
   ]
  },
  {
   "cell_type": "markdown",
   "id": "4aea413d",
   "metadata": {},
   "source": [
    "If the STATEMENT is FALSE you get a failure, but Julia also tries to break down where things went wrong. See 'expression' v 'evaluated'."
   ]
  },
  {
   "cell_type": "code",
   "execution_count": 3,
   "id": "526f8d47",
   "metadata": {
    "scrolled": true
   },
   "outputs": [
    {
     "name": "stdout",
     "output_type": "stream",
     "text": [
      "\u001b[91m\u001b[1mTest Failed\u001b[22m\u001b[39m at \u001b[39m\u001b[1mIn[3]:1\u001b[22m\n",
      "  Expression: 1 + 1 == 3\n",
      "   Evaluated: 2 == 3\n",
      "\n"
     ]
    },
    {
     "ename": "LoadError",
     "evalue": "\u001b[91mThere was an error during testing\u001b[39m",
     "output_type": "error",
     "traceback": [
      "\u001b[91mThere was an error during testing\u001b[39m",
      "",
      "Stacktrace:",
      " [1] record(ts::Test.FallbackTestSet, t::Union{Test.Error, Test.Fail})",
      "   @ Test ~/.julia/juliaup/julia-1.11.3+0.aarch64.apple.darwin14/share/julia/stdlib/v1.11/Test/src/Test.jl:1026",
      " [2] do_test(result::Test.ExecutionResult, orig_expr::Any)",
      "   @ Test ~/.julia/juliaup/julia-1.11.3+0.aarch64.apple.darwin14/share/julia/stdlib/v1.11/Test/src/Test.jl:712",
      " [3] macro expansion",
      "   @ ~/.julia/juliaup/julia-1.11.3+0.aarch64.apple.darwin14/share/julia/stdlib/v1.11/Test/src/Test.jl:679 [inlined]",
      " [4] top-level scope",
      "   @ In[3]:1"
     ]
    }
   ],
   "source": [
    "@test 1 + 1 == 3"
   ]
  },
  {
   "cell_type": "markdown",
   "id": "141f01a1",
   "metadata": {},
   "source": [
    "If the STATEMENT cannot be evaluated, Julia will throw an error and stop execution of code."
   ]
  },
  {
   "cell_type": "code",
   "execution_count": 4,
   "id": "aa17b05a",
   "metadata": {},
   "outputs": [
    {
     "name": "stdout",
     "output_type": "stream",
     "text": [
      "\u001b[91m\u001b[1mError During Test\u001b[22m\u001b[39m at \u001b[39m\u001b[1mIn[4]:1\u001b[22m\n",
      "  Test threw exception\n",
      "  Expression: 1 + fish == 3\n",
      "  UndefVarError: `fish` not defined in `Main`\n",
      "  Suggestion: check for spelling errors or missing imports.\n",
      "  Stacktrace:\n",
      "   [1] \u001b[0m\u001b[1mmacro expansion\u001b[22m\n",
      "  \u001b[90m   @\u001b[39m \u001b[90m~/.julia/juliaup/julia-1.11.3+0.aarch64.apple.darwin14/share/julia/stdlib/v1.11/Test/src/\u001b[39m\u001b[90m\u001b[4mTest.jl:676\u001b[24m\u001b[39m\u001b[90m [inlined]\u001b[39m\n",
      "   [2] top-level scope\n",
      "  \u001b[90m   @\u001b[39m \u001b[90m\u001b[4mIn[4]:1\u001b[24m\u001b[39m\n"
     ]
    },
    {
     "ename": "LoadError",
     "evalue": "\u001b[91mThere was an error during testing\u001b[39m",
     "output_type": "error",
     "traceback": [
      "\u001b[91mThere was an error during testing\u001b[39m",
      "",
      "Stacktrace:",
      " [1] record(ts::Test.FallbackTestSet, t::Union{Test.Error, Test.Fail})",
      "   @ Test ~/.julia/juliaup/julia-1.11.3+0.aarch64.apple.darwin14/share/julia/stdlib/v1.11/Test/src/Test.jl:1026",
      " [2] do_test(result::Test.ExecutionResult, orig_expr::Any)",
      "   @ Test ~/.julia/juliaup/julia-1.11.3+0.aarch64.apple.darwin14/share/julia/stdlib/v1.11/Test/src/Test.jl:712",
      " [3] macro expansion",
      "   @ ~/.julia/juliaup/julia-1.11.3+0.aarch64.apple.darwin14/share/julia/stdlib/v1.11/Test/src/Test.jl:679 [inlined]",
      " [4] top-level scope",
      "   @ In[4]:1"
     ]
    }
   ],
   "source": [
    "@test 1 + fish == 3 "
   ]
  },
  {
   "cell_type": "markdown",
   "id": "f0c680a8",
   "metadata": {},
   "source": [
    "### Approximate Testing:\n",
    "\n",
    "Remember to use approximate testing when appropriate to avoid issues with floating point precision."
   ]
  },
  {
   "cell_type": "code",
   "execution_count": 5,
   "id": "e5f4e665",
   "metadata": {},
   "outputs": [
    {
     "name": "stdout",
     "output_type": "stream",
     "text": [
      "\u001b[91m\u001b[1mTest Failed\u001b[22m\u001b[39m at \u001b[39m\u001b[1mIn[5]:1\u001b[22m\n",
      "  Expression: 0.1 + 0.2 == 0.3\n",
      "   Evaluated: 0.30000000000000004 == 0.3\n",
      "\n"
     ]
    },
    {
     "ename": "LoadError",
     "evalue": "\u001b[91mThere was an error during testing\u001b[39m",
     "output_type": "error",
     "traceback": [
      "\u001b[91mThere was an error during testing\u001b[39m",
      "",
      "Stacktrace:",
      " [1] record(ts::Test.FallbackTestSet, t::Union{Test.Error, Test.Fail})",
      "   @ Test ~/.julia/juliaup/julia-1.11.3+0.aarch64.apple.darwin14/share/julia/stdlib/v1.11/Test/src/Test.jl:1026",
      " [2] do_test(result::Test.ExecutionResult, orig_expr::Any)",
      "   @ Test ~/.julia/juliaup/julia-1.11.3+0.aarch64.apple.darwin14/share/julia/stdlib/v1.11/Test/src/Test.jl:712",
      " [3] macro expansion",
      "   @ ~/.julia/juliaup/julia-1.11.3+0.aarch64.apple.darwin14/share/julia/stdlib/v1.11/Test/src/Test.jl:679 [inlined]",
      " [4] top-level scope",
      "   @ In[5]:1"
     ]
    }
   ],
   "source": [
    "@test 0.1 + 0.2 == 0.3 # when numbers cannot be stored exactly in bit system"
   ]
  },
  {
   "cell_type": "code",
   "execution_count": 6,
   "id": "83b12031",
   "metadata": {},
   "outputs": [
    {
     "data": {
      "text/plain": [
       "\u001b[32m\u001b[1mTest Passed\u001b[22m\u001b[39m"
      ]
     },
     "execution_count": 6,
     "metadata": {},
     "output_type": "execute_result"
    }
   ],
   "source": [
    "# For floating-point approximations, you can use the ≈ operator, type it with \\approx TAB\n",
    "@test 0.1 + 0.2 ≈ 0.3 "
   ]
  },
  {
   "cell_type": "code",
   "execution_count": 7,
   "id": "0c5bfedb",
   "metadata": {},
   "outputs": [
    {
     "data": {
      "text/plain": [
       "\u001b[32m\u001b[1mTest Passed\u001b[22m\u001b[39m"
      ]
     },
     "execution_count": 7,
     "metadata": {},
     "output_type": "execute_result"
    }
   ],
   "source": [
    "@test π ≈ 3.14 atol=0.01 # if you play around and decrease atol, you will get a fail eventually"
   ]
  },
  {
   "cell_type": "code",
   "execution_count": 8,
   "id": "de36770e",
   "metadata": {},
   "outputs": [
    {
     "data": {
      "text/plain": [
       "\u001b[32m\u001b[1mTest Passed\u001b[22m\u001b[39m"
      ]
     },
     "execution_count": 8,
     "metadata": {},
     "output_type": "execute_result"
    }
   ],
   "source": [
    "@test isapprox(0.1 + 0.2, 0.3)"
   ]
  },
  {
   "cell_type": "markdown",
   "id": "a2aaf95b",
   "metadata": {},
   "source": [
    "###  Test Trows:\n",
    "#### Test throws can be used to check for certain types of errors"
   ]
  },
  {
   "cell_type": "code",
   "execution_count": 9,
   "id": "a5a1cbd0",
   "metadata": {
    "scrolled": true
   },
   "outputs": [
    {
     "data": {
      "text/plain": [
       "\u001b[32m\u001b[1mTest Passed\u001b[22m\u001b[39m\n",
       "      Thrown: DomainError"
      ]
     },
     "execution_count": 9,
     "metadata": {},
     "output_type": "execute_result"
    }
   ],
   "source": [
    " @test_throws DomainError sqrt(-1)"
   ]
  },
  {
   "cell_type": "code",
   "execution_count": 10,
   "id": "f5ccea55",
   "metadata": {},
   "outputs": [
    {
     "ename": "LoadError",
     "evalue": "DomainError with -1.0:\nsqrt was called with a negative real argument but will only return a complex result if called with a complex argument. Try sqrt(Complex(x)).",
     "output_type": "error",
     "traceback": [
      "DomainError with -1.0:\nsqrt was called with a negative real argument but will only return a complex result if called with a complex argument. Try sqrt(Complex(x)).",
      "",
      "Stacktrace:",
      " [1] throw_complex_domainerror(f::Symbol, x::Float64)",
      "   @ Base.Math ./math.jl:33",
      " [2] sqrt",
      "   @ ./math.jl:608 [inlined]",
      " [3] sqrt(x::Int64)",
      "   @ Base.Math ./math.jl:1531",
      " [4] top-level scope",
      "   @ In[10]:1"
     ]
    }
   ],
   "source": [
    "sqrt(-1)"
   ]
  },
  {
   "cell_type": "code",
   "execution_count": 11,
   "id": "91df5de1",
   "metadata": {},
   "outputs": [
    {
     "data": {
      "text/plain": [
       "\u001b[32m\u001b[1mTest Passed\u001b[22m\u001b[39m\n",
       "      Thrown: DimensionMismatch"
      ]
     },
     "execution_count": 11,
     "metadata": {},
     "output_type": "execute_result"
    }
   ],
   "source": [
    "@test_throws DimensionMismatch [1, 2, 3] + [1, 2]"
   ]
  },
  {
   "cell_type": "markdown",
   "id": "0ae3de8d",
   "metadata": {},
   "source": [
    "## The @testset macro \n",
    "This is a nice way to group together tests that are related, and it provides a nice structured output. @testset creates a local scope when running tests. All tests will be run even if an intermediate test fails. This is helpful in providing an overview of all the bugs in your code, isntead of stopping after the first failure.\n",
    "\n",
    "You can explore changing the output and behavior of testset using test types (verbose, showtiming, failfast)."
   ]
  },
  {
   "cell_type": "code",
   "execution_count": 26,
   "id": "7737c283",
   "metadata": {},
   "outputs": [
    {
     "name": "stdout",
     "output_type": "stream",
     "text": [
      "\u001b[0m\u001b[1mTest Summary:    | \u001b[22m\u001b[32m\u001b[1mPass  \u001b[22m\u001b[39m\u001b[36m\u001b[1mTotal  \u001b[22m\u001b[39m\u001b[0m\u001b[1mTime\u001b[22m\n",
      "Arithmetic Tests | \u001b[32m   3  \u001b[39m\u001b[36m    3  \u001b[39m\u001b[0m0.0s\n"
     ]
    }
   ],
   "source": [
    "@testset \"Arithmetic Tests\" begin\n",
    "    @test 1 + 1 == 2\n",
    "    @test 2 * 3 == 6\n",
    "    @test 4 - 2 == 2\n",
    "end;"
   ]
  },
  {
   "cell_type": "code",
   "execution_count": 27,
   "id": "e147e673",
   "metadata": {
    "scrolled": true
   },
   "outputs": [
    {
     "name": "stdout",
     "output_type": "stream",
     "text": [
      "Arithmetic Tests: \u001b[91m\u001b[1mTest Failed\u001b[22m\u001b[39m at \u001b[39m\u001b[1mIn[27]:2\u001b[22m\n",
      "  Expression: 1 + 1 == 20000\n",
      "   Evaluated: 2 == 20000\n",
      "\n",
      "Stacktrace:\n",
      " [1] \u001b[0m\u001b[1mmacro expansion\u001b[22m\n",
      "\u001b[90m   @\u001b[39m \u001b[90m~/.julia/juliaup/julia-1.11.3+0.aarch64.apple.darwin14/share/julia/stdlib/v1.11/Test/src/\u001b[39m\u001b[90m\u001b[4mTest.jl:679\u001b[24m\u001b[39m\u001b[90m [inlined]\u001b[39m\n",
      " [2] \u001b[0m\u001b[1mmacro expansion\u001b[22m\n",
      "\u001b[90m   @\u001b[39m \u001b[90m\u001b[4mIn[27]:2\u001b[24m\u001b[39m\u001b[90m [inlined]\u001b[39m\n",
      " [3] \u001b[0m\u001b[1mmacro expansion\u001b[22m\n",
      "\u001b[90m   @\u001b[39m \u001b[90m~/.julia/juliaup/julia-1.11.3+0.aarch64.apple.darwin14/share/julia/stdlib/v1.11/Test/src/\u001b[39m\u001b[90m\u001b[4mTest.jl:1704\u001b[24m\u001b[39m\u001b[90m [inlined]\u001b[39m\n",
      " [4] top-level scope\n",
      "\u001b[90m   @\u001b[39m \u001b[90m\u001b[4mIn[27]:2\u001b[24m\u001b[39m\n",
      "\u001b[0m\u001b[1mTest Summary:    | \u001b[22m\u001b[32m\u001b[1mPass  \u001b[22m\u001b[39m\u001b[91m\u001b[1mFail  \u001b[22m\u001b[39m\u001b[36m\u001b[1mTotal  \u001b[22m\u001b[39m\u001b[0m\u001b[1mTime\u001b[22m\n",
      "Arithmetic Tests | \u001b[32m   2  \u001b[39m\u001b[91m   1  \u001b[39m\u001b[36m    3  \u001b[39m\u001b[0m0.0s\n"
     ]
    },
    {
     "ename": "LoadError",
     "evalue": "\u001b[91mSome tests did not pass: 2 passed, 1 failed, 0 errored, 0 broken.\u001b[39m",
     "output_type": "error",
     "traceback": [
      "\u001b[91mSome tests did not pass: 2 passed, 1 failed, 0 errored, 0 broken.\u001b[39m",
      "",
      "Stacktrace:",
      " [1] finish(ts::Test.DefaultTestSet; print_results::Bool)",
      "   @ Test ~/.julia/juliaup/julia-1.11.3+0.aarch64.apple.darwin14/share/julia/stdlib/v1.11/Test/src/Test.jl:1258",
      " [2] finish(ts::Test.DefaultTestSet)",
      "   @ Test ~/.julia/juliaup/julia-1.11.3+0.aarch64.apple.darwin14/share/julia/stdlib/v1.11/Test/src/Test.jl:1233",
      " [3] macro expansion",
      "   @ ~/.julia/juliaup/julia-1.11.3+0.aarch64.apple.darwin14/share/julia/stdlib/v1.11/Test/src/Test.jl:1720 [inlined]",
      " [4] top-level scope",
      "   @ In[27]:2"
     ]
    }
   ],
   "source": [
    "@testset \"Arithmetic Tests\" begin\n",
    "    @test 1 + 1 == 20000 # even though this fails, testing continues \n",
    "    @test 2 * 3 == 6 \n",
    "    @test 4 - 2 == 2\n",
    "end;"
   ]
  },
  {
   "cell_type": "markdown",
   "id": "9d3e8d06",
   "metadata": {},
   "source": [
    "### For loop testing"
   ]
  },
  {
   "cell_type": "code",
   "execution_count": null,
   "id": "8711c09c",
   "metadata": {
    "scrolled": true
   },
   "outputs": [],
   "source": [
    "@testset for i in 1:3\n",
    "    @test i > 0\n",
    "end;"
   ]
  },
  {
   "cell_type": "markdown",
   "id": "a79822dd",
   "metadata": {},
   "source": [
    "### Nesting tests"
   ]
  },
  {
   "cell_type": "code",
   "execution_count": 28,
   "id": "6ca9b818",
   "metadata": {},
   "outputs": [
    {
     "name": "stdout",
     "output_type": "stream",
     "text": [
      "\u001b[0m\u001b[1mTest Summary: | \u001b[22m\u001b[32m\u001b[1mPass  \u001b[22m\u001b[39m\u001b[36m\u001b[1mTotal  \u001b[22m\u001b[39m\u001b[0m\u001b[1mTime\u001b[22m\n",
      "Foo Tests     | \u001b[32m   8  \u001b[39m\u001b[36m    8  \u001b[39m\u001b[0m0.0s\n",
      "  Animals     | \u001b[32m   2  \u001b[39m\u001b[36m    2  \u001b[39m\u001b[0m0.0s\n",
      "  Arrays 1    | \u001b[32m   2  \u001b[39m\u001b[36m    2  \u001b[39m\u001b[0m0.0s\n",
      "  Arrays 2    | \u001b[32m   2  \u001b[39m\u001b[36m    2  \u001b[39m\u001b[0m0.0s\n",
      "  Arrays 3    | \u001b[32m   2  \u001b[39m\u001b[36m    2  \u001b[39m\u001b[0m0.0s\n"
     ]
    }
   ],
   "source": [
    "foo(x) = length(x)^2\n",
    "\n",
    "@testset verbose = true \"Foo Tests\" begin\n",
    "           @testset \"Animals\" begin\n",
    "               @test foo(\"cat\") == 9\n",
    "               @test foo(\"dog\") == foo(\"cat\")\n",
    "           end\n",
    "           @testset \"Arrays $i\" for i in 1:3\n",
    "               @test foo(zeros(i)) == i^2\n",
    "               @test foo(fill(1.0, i)) == i^2\n",
    "           end\n",
    "       end;"
   ]
  },
  {
   "cell_type": "code",
   "execution_count": 31,
   "id": "5eaf2dd8",
   "metadata": {},
   "outputs": [
    {
     "data": {
      "text/plain": [
       "9"
      ]
     },
     "execution_count": 31,
     "metadata": {},
     "output_type": "execute_result"
    }
   ],
   "source": [
    "length(\"cat\")^2"
   ]
  },
  {
   "cell_type": "markdown",
   "id": "a1718424",
   "metadata": {},
   "source": [
    "# Julia Package Testing Demo\n",
    "\n",
    "I create a demo pacakge called Example (available on my GitHub below). Feel free to clone the repo and follow along! I will be showing you how to setup test files within a pacakge and use GitHub Actions to automatically run you tests each time you push your code :) \n",
    "\n",
    "\n",
    "## 1. Forking & Cloning the Repository\n",
    "\n",
    "### Instructions:\n",
    "1. **Go to my Example GitHub repository** (e.g., `https://github.com/kirstenlandsiedel/Example`).\n",
    "2. **Clone** onto your local machine:\n",
    "   ```sh\n",
    "   git clone https://github.com/YOUR_GITHUB_USERNAME/Example.git\n",
    "   cd Example\n",
    "   ```\n",
    "\n",
    "---\n",
    "\n",
    "## 2. Understanding the Package Structure\n",
    "\n",
    "### Key Files:\n",
    "- **`src/Example.jl`** → Defines the module and functions.\n",
    "- **`test/runtests.jl`** → Runs all test files.\n",
    "- **`test/math_tests.jl` & `test/greeting_tests.jl`** → Contain specific test cases.\n",
    "- **`Project.toml`** → Contains package metadata.\n",
    "- **`.github/workflows`** → Contains code for GitHub Actions (auto-testing).\n",
    "\n",
    "---\n",
    "\n",
    "## 3. Walking Through the Code\n",
    "\n",
    "### (A) `Example.jl`: The Main Code\n",
    "```julia\n",
    "module Example\n",
    "\n",
    "function greet()\n",
    "    \"Hello world!\"\n",
    "end\n",
    "\n",
    "function simple_add(a, b)\n",
    "    a + b\n",
    "end\n",
    "\n",
    "function type_multiply(a::Float64, b::Float64)\n",
    "    a * b\n",
    "end\n",
    "\n",
    "export greet, simple_add, type_multiply\n",
    "\n",
    "end\n",
    "```\n",
    "📌 **Key Concepts:**\n",
    "- The package is wrapped in a `module Example` block.\n",
    "- Functions are defined and exported using `export`.\n",
    "\n",
    "---\n",
    "\n",
    "### (B) The Test Files\n",
    "\n",
    "#### `test/math_tests.jl`\n",
    "```julia\n",
    "@testset \"Testset 1\" begin\n",
    "    @test 2 == simple_add(1, 1)\n",
    "    @test 3.5 == simple_add(1, 2.5)\n",
    "    @test_throws MethodError simple_add(1, \"A\")\n",
    "    @test_throws MethodError simple_add(1, 2, 3)\n",
    "end\n",
    "\n",
    "@testset \"Testset 2\" begin\n",
    "    @test 1.0 == type_multiply(1.0, 1.0)\n",
    "    @test isa(type_multiply(2.0, 2.0), Float64)\n",
    "    @test_throws MethodError type_multiply(1, 2.5)\n",
    "end\n",
    "```\n",
    "📌 **Key Concepts:**\n",
    "- `@test` checks if a function produces the expected result.\n",
    "- `@test_throws` ensures invalid inputs raise errors.\n",
    "\n",
    "#### `test/greeting_tests.jl`\n",
    "```julia\n",
    "@testset \"Testset 3\" begin\n",
    "    @test \"Hello world!\" == greet()\n",
    "    @test_throws MethodError greet(\"Antonia\")\n",
    "end\n",
    "```\n",
    "📌 **Key Concepts:**\n",
    "- The greeting function should return `\"Hello world!\"`\n",
    "- Calling it with an argument should cause an error.\n",
    "\n",
    "---\n",
    "\n",
    "## 4. Running the Functions\n",
    "\n",
    "### In terminal: julia()\n",
    "\n",
    "```julia\n",
    "using Pkg\n",
    "Pkg.activate(\".\") # inside the Example folder \n",
    "using Example\n",
    "\n",
    "greet()\n",
    "simple_add(3, 5)\n",
    "type_multiply(2.0, 4.0)\n",
    "```\n",
    "\n",
    "### In Jupyter Notebook\n",
    "\n",
    "```julia\n",
    "using Pkg\n",
    "Pkg.activate(\"/Users/kirstenlandsiedel/Example\")\n",
    "\n",
    "using Example\n",
    "greet()\n",
    "simple_add(3, 5)\n",
    "type_multiply(2.0, 4.0)\n",
    "```\n",
    "\n",
    "\n",
    "📌 **Think about::**  \n",
    "- What happens if you run `simple_add(1, \"hello\")`?\n",
    "- Why does `type_multiply(1, 2.5)` fail?\n",
    "\n",
    "---\n",
    "\n",
    "## 5. Running the Tests\n",
    "Check if the package is working correctly.\n",
    "\n",
    "```julia\n",
    "Pkg.test()\n",
    "```\n",
    "📌 **Key Concept:**\n",
    "- Julia finds and runs all test files inside `test/`.\n",
    "- The output will show **which tests passed or failed**.\n",
    "\n",
    "---\n",
    "\n",
    "## **GitHub Actions for Automatic Testing**\n",
    "If you have time, you can show them how to automatically run tests on **GitHub Actions** when they push code.\n",
    "\n",
    "Would you like me to add a GitHub Actions setup for automated testing? 🚀\n",
    "\n",
    "\n",
    "### **Setting Up GitHub Actions**\n",
    "\n",
    "To automatically run tests on every push, create a GitHub Actions workflow:\n",
    "\n",
    "1. **Create the GitHub Actions Workflow File**\n",
    "   ```sh\n",
    "   mkdir -p .github/workflows\n",
    "   nano .github/workflows/ci.yml\n",
    "   ```\n",
    "\n",
    "2. **Add the following content:**\n",
    "\n",
    "   ```yaml\n",
    "   name: Run Julia Tests\n",
    "\n",
    "   on:\n",
    "     push:\n",
    "       branches:\n",
    "         - main\n",
    "     pull_request:\n",
    "\n",
    "   jobs:\n",
    "     test:\n",
    "       runs-on: ubuntu-latest\n",
    "\n",
    "       steps:\n",
    "         - name: Check out repository\n",
    "           uses: actions/checkout@v4\n",
    "\n",
    "         - name: Set up Julia\n",
    "           uses: julia-actions/setup-julia@v2\n",
    "           with:\n",
    "             version: '1.11'\n",
    "\n",
    "         - name: Verify Project.toml Exists\n",
    "           run: |\n",
    "             ls -l $GITHUB_WORKSPACE  # Debugging step to verify Project.toml is present\n",
    "             cat $GITHUB_WORKSPACE/Project.toml || echo \"Project.toml not found\"\n",
    "\n",
    "         - name: Install dependencies\n",
    "           run: |\n",
    "             cd $GITHUB_WORKSPACE\n",
    "             julia -e 'using Pkg; Pkg.activate(\".\"); Pkg.instantiate()'\n",
    "\n",
    "         - name: Run tests\n",
    "           run: |\n",
    "             cd $GITHUB_WORKSPACE\n",
    "             julia -e 'using Pkg; Pkg.activate(\".\"); Pkg.test()'\n",
    "   ```\n",
    "\n",
    "3. **Save the file and commit it:**\n",
    "   ```sh\n",
    "   git add .github/workflows/ci.yml\n",
    "   git commit -m \"Added GitHub Actions workflow for testing\"\n",
    "   git push origin main\n",
    "   ```\n",
    "   \n",
    "\n",
    "## 6. Challenge: Writing Their Own Tests\n",
    "**Exercise:** Let's try to add a function we know will casue problems and see GitHub Actions in action catching what's happening. Note, I will edit these files from terminal. There are instructions on the commands I used to do so in section \"Editing a File\" below.\n",
    "\n",
    "### **Add a new function to `src/Example.jl`**:\n",
    "\n",
    "Remember to add buggy_divide to export statement\n",
    "\n",
    "```julia\n",
    "function buggy_divide(a, b)\n",
    "    return a / b  # This function will fail if b == 0 (division by zero)\n",
    "end\n",
    "```\n",
    "\n",
    "### **Create a test case in `test/math_tests.jl`**:\n",
    "```julia\n",
    "@testset \"Buggy Divide Function\" begin\n",
    "    @test buggy_divide(10, 2) == 5  # This should pass\n",
    "    @test_throws DivideError buggy_divide(10, 0)  # This will fail if not handled properly\n",
    "end\n",
    "```\n",
    "\n",
    "### **Run the tests again**:\n",
    "```julia\n",
    "Pkg.test()\n",
    "```\n",
    "📌 **Ask them:**  \n",
    "- What happens if they pass a string to `squared()`?\n",
    "- Should they add `@test_throws` to catch that?\n",
    "\n",
    "---\n",
    "\n",
    "##  Editing a File \n",
    "**Goal:** Show students how to modify files using the terminal.\n",
    "\n",
    "### Via Terminal: **Using `nano` (Command Line Editor)**\n",
    "To edit a file, such as `src/Example.jl`, run:\n",
    "```sh\n",
    "nano src/Example.jl\n",
    "```\n",
    "- Use arrow keys to navigate.\n",
    "- Make changes as needed.\n",
    "- Save the file by pressing `CTRL + X`, then `Y`, then `Enter`.\n",
    "\n",
    "### Via Github repo:\n",
    "Probably a bad idea in general, but easier for playing around with Example if you want. \n",
    "- Click on file and then the pen icon. Edit away!\n",
    "\n",
    "\n",
    "---\n"
   ]
  },
  {
   "cell_type": "markdown",
   "id": "7dde2c2f",
   "metadata": {},
   "source": [
    "# Playing around with Example package"
   ]
  },
  {
   "cell_type": "code",
   "execution_count": 4,
   "id": "14cbd18f",
   "metadata": {
    "scrolled": true
   },
   "outputs": [
    {
     "name": "stderr",
     "output_type": "stream",
     "text": [
      "\u001b[32m\u001b[1m  Activating\u001b[22m\u001b[39m project at `~/Example`\n"
     ]
    }
   ],
   "source": [
    "using Pkg\n",
    "Pkg.activate(\"/Users/kirstenlandsiedel/Example\")"
   ]
  },
  {
   "cell_type": "markdown",
   "id": "9f56d719",
   "metadata": {},
   "source": [
    "### Check out functions "
   ]
  },
  {
   "cell_type": "code",
   "execution_count": 5,
   "id": "52499382",
   "metadata": {},
   "outputs": [
    {
     "data": {
      "text/plain": [
       "\"Hello world!\""
      ]
     },
     "execution_count": 5,
     "metadata": {},
     "output_type": "execute_result"
    }
   ],
   "source": [
    "using Example\n",
    "greet()"
   ]
  },
  {
   "cell_type": "code",
   "execution_count": 6,
   "id": "eb84f788",
   "metadata": {},
   "outputs": [
    {
     "data": {
      "text/plain": [
       "8"
      ]
     },
     "execution_count": 6,
     "metadata": {},
     "output_type": "execute_result"
    }
   ],
   "source": [
    "simple_add(3, 5)"
   ]
  },
  {
   "cell_type": "code",
   "execution_count": 7,
   "id": "772685cd",
   "metadata": {},
   "outputs": [
    {
     "data": {
      "text/plain": [
       "8.0"
      ]
     },
     "execution_count": 7,
     "metadata": {},
     "output_type": "execute_result"
    }
   ],
   "source": [
    "type_multiply(2.0, 4.0)"
   ]
  },
  {
   "cell_type": "markdown",
   "id": "2c3d0bcf",
   "metadata": {},
   "source": [
    "### Run package test file\n",
    "\n",
    "Take a look at the output! We can see that all tests are currently passing - wohoo!"
   ]
  },
  {
   "cell_type": "code",
   "execution_count": 9,
   "id": "684504fe",
   "metadata": {
    "scrolled": true
   },
   "outputs": [
    {
     "name": "stderr",
     "output_type": "stream",
     "text": [
      "\u001b[32m\u001b[1m     Testing\u001b[22m\u001b[39m Example\n",
      "\u001b[32m\u001b[1m      Status\u001b[22m\u001b[39m `/private/var/folders/fr/mq93zz092j9b8xhtv0p9hc000000gn/T/jl_vF5Cqz/Project.toml`\n",
      "  \u001b[90m[08af438f] \u001b[39mExample v0.1.0 `~/Example`\n",
      "  \u001b[90m[8dfed614] \u001b[39mTest v1.11.0\n",
      "\u001b[32m\u001b[1m      Status\u001b[22m\u001b[39m `/private/var/folders/fr/mq93zz092j9b8xhtv0p9hc000000gn/T/jl_vF5Cqz/Manifest.toml`\n",
      "  \u001b[90m[08af438f] \u001b[39mExample v0.1.0 `~/Example`\n",
      "  \u001b[90m[2a0f44e3] \u001b[39mBase64 v1.11.0\n",
      "  \u001b[90m[b77e0a4c] \u001b[39mInteractiveUtils v1.11.0\n",
      "  \u001b[90m[56ddb016] \u001b[39mLogging v1.11.0\n",
      "  \u001b[90m[d6f4376e] \u001b[39mMarkdown v1.11.0\n",
      "  \u001b[90m[9a3f8284] \u001b[39mRandom v1.11.0\n",
      "  \u001b[90m[ea8e919c] \u001b[39mSHA v0.7.0\n",
      "  \u001b[90m[9e88b42a] \u001b[39mSerialization v1.11.0\n",
      "  \u001b[90m[8dfed614] \u001b[39mTest v1.11.0\n",
      "\u001b[32m\u001b[1m     Testing\u001b[22m\u001b[39m Running tests...\n",
      "\u001b[0m\u001b[1mTest Summary: | \u001b[22m\u001b[32m\u001b[1mPass  \u001b[22m\u001b[39m\u001b[36m\u001b[1mTotal  \u001b[22m\u001b[39m\u001b[0m\u001b[1mTime\u001b[22m\n",
      "Example tests | \u001b[32m   9  \u001b[39m\u001b[36m    9  \u001b[39m\u001b[0m0.1s\n",
      "\u001b[32m\u001b[1m     Testing\u001b[22m\u001b[39m Example tests passed \n"
     ]
    }
   ],
   "source": [
    "Pkg.test()"
   ]
  }
 ],
 "metadata": {
  "kernelspec": {
   "display_name": "Julia 1.11.3",
   "language": "julia",
   "name": "julia-1.11"
  },
  "language_info": {
   "file_extension": ".jl",
   "mimetype": "application/julia",
   "name": "julia",
   "version": "1.11.3"
  }
 },
 "nbformat": 4,
 "nbformat_minor": 5
}
